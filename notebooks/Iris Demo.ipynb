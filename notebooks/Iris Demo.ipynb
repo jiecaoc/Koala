{
 "metadata": {
  "name": ""
 },
 "nbformat": 3,
 "nbformat_minor": 0,
 "worksheets": [
  {
   "cells": [
    {
     "cell_type": "code",
     "collapsed": false,
     "input": [
      "%pylab inline"
     ],
     "language": "python",
     "metadata": {},
     "outputs": [
      {
       "output_type": "stream",
       "stream": "stdout",
       "text": [
        "Populating the interactive namespace from numpy and matplotlib\n"
       ]
      }
     ],
     "prompt_number": 1
    },
    {
     "cell_type": "code",
     "collapsed": false,
     "input": [
      "from koala import Koala\n",
      "import pandas as pd\n",
      "import numpy as np\n",
      "from sklearn.datasets import load_iris"
     ],
     "language": "python",
     "metadata": {},
     "outputs": [],
     "prompt_number": 2
    },
    {
     "cell_type": "code",
     "collapsed": false,
     "input": [
      "iris = pd.read_csv('../data/iris.csv')"
     ],
     "language": "python",
     "metadata": {},
     "outputs": [],
     "prompt_number": 3
    },
    {
     "cell_type": "code",
     "collapsed": false,
     "input": [
      "k = Koala(data=iris, target='species')"
     ],
     "language": "python",
     "metadata": {},
     "outputs": [],
     "prompt_number": 4
    },
    {
     "cell_type": "code",
     "collapsed": false,
     "input": [
      "k.train(test_size=0.3)"
     ],
     "language": "python",
     "metadata": {},
     "outputs": [],
     "prompt_number": 5
    },
    {
     "cell_type": "code",
     "collapsed": false,
     "input": [
      "random_rows = np.random.choice(iris.index.values, 10)\n",
      "sampledf = iris.ix[random_rows]"
     ],
     "language": "python",
     "metadata": {},
     "outputs": [],
     "prompt_number": 6
    },
    {
     "cell_type": "code",
     "collapsed": false,
     "input": [
      "sample_data = sampledf.drop('species', axis=1).values"
     ],
     "language": "python",
     "metadata": {},
     "outputs": [],
     "prompt_number": 7
    },
    {
     "cell_type": "code",
     "collapsed": false,
     "input": [
      "k.predict(sample_data)"
     ],
     "language": "python",
     "metadata": {},
     "outputs": [
      {
       "metadata": {},
       "output_type": "pyout",
       "prompt_number": 8,
       "text": [
        "array(['Iris-versicolor', 'Iris-versicolor', 'Iris-virginica',\n",
        "       'Iris-virginica', 'Iris-versicolor', 'Iris-versicolor',\n",
        "       'Iris-setosa', 'Iris-versicolor', 'Iris-versicolor', 'Iris-setosa'], dtype=object)"
       ]
      }
     ],
     "prompt_number": 8
    },
    {
     "cell_type": "code",
     "collapsed": false,
     "input": [
      "sampledf['predictions'] = pd.DataFrame(data=k.predict(sample_data),index=sampledf.index)\n",
      "sampledf"
     ],
     "language": "python",
     "metadata": {},
     "outputs": [
      {
       "html": [
        "<div style=\"max-height:1000px;max-width:1500px;overflow:auto;\">\n",
        "<table border=\"1\" class=\"dataframe\">\n",
        "  <thead>\n",
        "    <tr style=\"text-align: right;\">\n",
        "      <th></th>\n",
        "      <th>sepal_length</th>\n",
        "      <th>sepal_width</th>\n",
        "      <th>petal_length</th>\n",
        "      <th>petal_width</th>\n",
        "      <th>species</th>\n",
        "      <th>predictions</th>\n",
        "    </tr>\n",
        "  </thead>\n",
        "  <tbody>\n",
        "    <tr>\n",
        "      <th>55 </th>\n",
        "      <td> 5.7</td>\n",
        "      <td> 2.8</td>\n",
        "      <td> 4.5</td>\n",
        "      <td> 1.3</td>\n",
        "      <td> Iris-versicolor</td>\n",
        "      <td> Iris-versicolor</td>\n",
        "    </tr>\n",
        "    <tr>\n",
        "      <th>64 </th>\n",
        "      <td> 5.6</td>\n",
        "      <td> 2.9</td>\n",
        "      <td> 3.6</td>\n",
        "      <td> 1.3</td>\n",
        "      <td> Iris-versicolor</td>\n",
        "      <td> Iris-versicolor</td>\n",
        "    </tr>\n",
        "    <tr>\n",
        "      <th>108</th>\n",
        "      <td> 6.7</td>\n",
        "      <td> 2.5</td>\n",
        "      <td> 5.8</td>\n",
        "      <td> 1.8</td>\n",
        "      <td>  Iris-virginica</td>\n",
        "      <td>  Iris-virginica</td>\n",
        "    </tr>\n",
        "    <tr>\n",
        "      <th>110</th>\n",
        "      <td> 6.5</td>\n",
        "      <td> 3.2</td>\n",
        "      <td> 5.1</td>\n",
        "      <td> 2.0</td>\n",
        "      <td>  Iris-virginica</td>\n",
        "      <td>  Iris-virginica</td>\n",
        "    </tr>\n",
        "    <tr>\n",
        "      <th>50 </th>\n",
        "      <td> 7.0</td>\n",
        "      <td> 3.2</td>\n",
        "      <td> 4.7</td>\n",
        "      <td> 1.4</td>\n",
        "      <td> Iris-versicolor</td>\n",
        "      <td> Iris-versicolor</td>\n",
        "    </tr>\n",
        "    <tr>\n",
        "      <th>76 </th>\n",
        "      <td> 6.8</td>\n",
        "      <td> 2.8</td>\n",
        "      <td> 4.8</td>\n",
        "      <td> 1.4</td>\n",
        "      <td> Iris-versicolor</td>\n",
        "      <td> Iris-versicolor</td>\n",
        "    </tr>\n",
        "    <tr>\n",
        "      <th>27 </th>\n",
        "      <td> 5.2</td>\n",
        "      <td> 3.5</td>\n",
        "      <td> 1.5</td>\n",
        "      <td> 0.2</td>\n",
        "      <td>     Iris-setosa</td>\n",
        "      <td>     Iris-setosa</td>\n",
        "    </tr>\n",
        "    <tr>\n",
        "      <th>83 </th>\n",
        "      <td> 6.0</td>\n",
        "      <td> 2.7</td>\n",
        "      <td> 5.1</td>\n",
        "      <td> 1.6</td>\n",
        "      <td> Iris-versicolor</td>\n",
        "      <td> Iris-versicolor</td>\n",
        "    </tr>\n",
        "    <tr>\n",
        "      <th>57 </th>\n",
        "      <td> 4.9</td>\n",
        "      <td> 2.4</td>\n",
        "      <td> 3.3</td>\n",
        "      <td> 1.0</td>\n",
        "      <td> Iris-versicolor</td>\n",
        "      <td> Iris-versicolor</td>\n",
        "    </tr>\n",
        "    <tr>\n",
        "      <th>35 </th>\n",
        "      <td> 5.0</td>\n",
        "      <td> 3.2</td>\n",
        "      <td> 1.2</td>\n",
        "      <td> 0.2</td>\n",
        "      <td>     Iris-setosa</td>\n",
        "      <td>     Iris-setosa</td>\n",
        "    </tr>\n",
        "  </tbody>\n",
        "</table>\n",
        "</div>"
       ],
       "metadata": {},
       "output_type": "pyout",
       "prompt_number": 9,
       "text": [
        "     sepal_length  sepal_width  petal_length  petal_width          species  \\\n",
        "55            5.7          2.8           4.5          1.3  Iris-versicolor   \n",
        "64            5.6          2.9           3.6          1.3  Iris-versicolor   \n",
        "108           6.7          2.5           5.8          1.8   Iris-virginica   \n",
        "110           6.5          3.2           5.1          2.0   Iris-virginica   \n",
        "50            7.0          3.2           4.7          1.4  Iris-versicolor   \n",
        "76            6.8          2.8           4.8          1.4  Iris-versicolor   \n",
        "27            5.2          3.5           1.5          0.2      Iris-setosa   \n",
        "83            6.0          2.7           5.1          1.6  Iris-versicolor   \n",
        "57            4.9          2.4           3.3          1.0  Iris-versicolor   \n",
        "35            5.0          3.2           1.2          0.2      Iris-setosa   \n",
        "\n",
        "         predictions  \n",
        "55   Iris-versicolor  \n",
        "64   Iris-versicolor  \n",
        "108   Iris-virginica  \n",
        "110   Iris-virginica  \n",
        "50   Iris-versicolor  \n",
        "76   Iris-versicolor  \n",
        "27       Iris-setosa  \n",
        "83   Iris-versicolor  \n",
        "57   Iris-versicolor  \n",
        "35       Iris-setosa  "
       ]
      }
     ],
     "prompt_number": 9
    },
    {
     "cell_type": "code",
     "collapsed": false,
     "input": [
      "k.f1_score()"
     ],
     "language": "python",
     "metadata": {},
     "outputs": [
      {
       "metadata": {},
       "output_type": "pyout",
       "prompt_number": 10,
       "text": [
        "0.9555555555555556"
       ]
      }
     ],
     "prompt_number": 10
    },
    {
     "cell_type": "code",
     "collapsed": false,
     "input": [
      "k.precision_score()"
     ],
     "language": "python",
     "metadata": {},
     "outputs": [
      {
       "metadata": {},
       "output_type": "pyout",
       "prompt_number": 11,
       "text": [
        "0.9555555555555556"
       ]
      }
     ],
     "prompt_number": 11
    },
    {
     "cell_type": "code",
     "collapsed": false,
     "input": [
      "k.confusion_matrix()"
     ],
     "language": "python",
     "metadata": {},
     "outputs": [
      {
       "html": [
        "<div style=\"max-height:1000px;max-width:1500px;overflow:auto;\">\n",
        "<table border=\"1\" class=\"dataframe\">\n",
        "  <thead>\n",
        "    <tr style=\"text-align: right;\">\n",
        "      <th></th>\n",
        "      <th>Iris-setosa</th>\n",
        "      <th>Iris-versicolor</th>\n",
        "      <th>Iris-virginica</th>\n",
        "    </tr>\n",
        "  </thead>\n",
        "  <tbody>\n",
        "    <tr>\n",
        "      <th>Iris-setosa</th>\n",
        "      <td> 14</td>\n",
        "      <td>  0</td>\n",
        "      <td>  0</td>\n",
        "    </tr>\n",
        "    <tr>\n",
        "      <th>Iris-versicolor</th>\n",
        "      <td>  0</td>\n",
        "      <td> 12</td>\n",
        "      <td>  1</td>\n",
        "    </tr>\n",
        "    <tr>\n",
        "      <th>Iris-virginica</th>\n",
        "      <td>  0</td>\n",
        "      <td>  1</td>\n",
        "      <td> 17</td>\n",
        "    </tr>\n",
        "  </tbody>\n",
        "</table>\n",
        "</div>"
       ],
       "metadata": {},
       "output_type": "pyout",
       "prompt_number": 12,
       "text": [
        "                 Iris-setosa  Iris-versicolor  Iris-virginica\n",
        "Iris-setosa               14                0               0\n",
        "Iris-versicolor            0               12               1\n",
        "Iris-virginica             0                1              17"
       ]
      }
     ],
     "prompt_number": 12
    },
    {
     "cell_type": "code",
     "collapsed": false,
     "input": [
      "k.feature_importance().plot(kind='barh')"
     ],
     "language": "python",
     "metadata": {},
     "outputs": [
      {
       "metadata": {},
       "output_type": "pyout",
       "prompt_number": 13,
       "text": [
        "<matplotlib.axes.AxesSubplot at 0x7e98470>"
       ]
      },
      {
       "metadata": {},
       "output_type": "display_data",
       "png": "[encoded data removed]",
       "text": [
        "<matplotlib.figure.Figure at 0x3fe4c18>"
       ]
      }
     ],
     "prompt_number": 13
    },
    {
     "cell_type": "code",
     "collapsed": false,
     "input": [
      "k.feature_reduction_scores().plot()"
     ],
     "language": "python",
     "metadata": {},
     "outputs": [
      {
       "metadata": {},
       "output_type": "pyout",
       "prompt_number": 14,
       "text": [
        "<matplotlib.axes.AxesSubplot at 0x80516d8>"
       ]
      },
      {
       "metadata": {},
       "output_type": "display_data",
       "png": "[encoded data removed]",
       "text": [
        "<matplotlib.figure.Figure at 0x805ccf8>"
       ]
      }
     ],
     "prompt_number": 14
    },
    {
     "cell_type": "raw",
     "metadata": {},
     "source": [
      "Saving and loading:"
     ]
    },
    {
     "cell_type": "code",
     "collapsed": false,
     "input": [
      "k.save('foo.dat')"
     ],
     "language": "python",
     "metadata": {},
     "outputs": [],
     "prompt_number": 15
    },
    {
     "cell_type": "code",
     "collapsed": false,
     "input": [
      "d = Koala()"
     ],
     "language": "python",
     "metadata": {},
     "outputs": [],
     "prompt_number": 16
    },
    {
     "cell_type": "code",
     "collapsed": false,
     "input": [
      "d.load('foo.dat')"
     ],
     "language": "python",
     "metadata": {},
     "outputs": [],
     "prompt_number": 17
    },
    {
     "cell_type": "code",
     "collapsed": false,
     "input": [
      "d.confusion_matrix()"
     ],
     "language": "python",
     "metadata": {},
     "outputs": [
      {
       "html": [
        "<div style=\"max-height:1000px;max-width:1500px;overflow:auto;\">\n",
        "<table border=\"1\" class=\"dataframe\">\n",
        "  <thead>\n",
        "    <tr style=\"text-align: right;\">\n",
        "      <th></th>\n",
        "      <th>Iris-setosa</th>\n",
        "      <th>Iris-versicolor</th>\n",
        "      <th>Iris-virginica</th>\n",
        "    </tr>\n",
        "  </thead>\n",
        "  <tbody>\n",
        "    <tr>\n",
        "      <th>Iris-setosa</th>\n",
        "      <td> 14</td>\n",
        "      <td>  0</td>\n",
        "      <td>  0</td>\n",
        "    </tr>\n",
        "    <tr>\n",
        "      <th>Iris-versicolor</th>\n",
        "      <td>  0</td>\n",
        "      <td> 12</td>\n",
        "      <td>  1</td>\n",
        "    </tr>\n",
        "    <tr>\n",
        "      <th>Iris-virginica</th>\n",
        "      <td>  0</td>\n",
        "      <td>  1</td>\n",
        "      <td> 17</td>\n",
        "    </tr>\n",
        "  </tbody>\n",
        "</table>\n",
        "</div>"
       ],
       "metadata": {},
       "output_type": "pyout",
       "prompt_number": 18,
       "text": [
        "                 Iris-setosa  Iris-versicolor  Iris-virginica\n",
        "Iris-setosa               14                0               0\n",
        "Iris-versicolor            0               12               1\n",
        "Iris-virginica             0                1              17"
       ]
      }
     ],
     "prompt_number": 18
    },
    {
     "cell_type": "code",
     "collapsed": false,
     "input": [],
     "language": "python",
     "metadata": {},
     "outputs": [],
     "prompt_number": 18
    }
   ],
   "metadata": {}
  }
 ]
}