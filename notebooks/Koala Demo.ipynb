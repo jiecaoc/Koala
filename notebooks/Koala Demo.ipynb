{
 "metadata": {
  "name": "Koala Demo"
 },
 "nbformat": 3,
 "nbformat_minor": 0,
 "worksheets": [
  {
   "cells": [
    {
     "cell_type": "code",
     "collapsed": false,
     "input": "%pylab inline",
     "language": "python",
     "metadata": {},
     "outputs": [
      {
       "output_type": "stream",
       "stream": "stdout",
       "text": "Populating the interactive namespace from numpy and matplotlib\n"
      }
     ],
     "prompt_number": 1
    },
    {
     "cell_type": "code",
     "collapsed": false,
     "input": "from koala import Koala\nimport pandas as pd\nimport numpy as np\nfrom sklearn.datasets import load_iris",
     "language": "python",
     "metadata": {},
     "outputs": [],
     "prompt_number": 2
    },
    {
     "cell_type": "code",
     "collapsed": false,
     "input": "iris = load_iris()\ndf = pd.DataFrame(iris.data, columns=iris.feature_names)\ndf['species'] = pd.Categorical(iris.target, iris.target_names)\ndf.head()",
     "language": "python",
     "metadata": {},
     "outputs": [
      {
       "html": "<div style=\"max-height:1000px;max-width:1500px;overflow:auto;\">\n<table border=\"1\" class=\"dataframe\">\n  <thead>\n    <tr style=\"text-align: right;\">\n      <th></th>\n      <th>sepal length (cm)</th>\n      <th>sepal width (cm)</th>\n      <th>petal length (cm)</th>\n      <th>petal width (cm)</th>\n      <th>species</th>\n    </tr>\n  </thead>\n  <tbody>\n    <tr>\n      <th>0</th>\n      <td> 5.1</td>\n      <td> 3.5</td>\n      <td> 1.4</td>\n      <td> 0.2</td>\n      <td> setosa</td>\n    </tr>\n    <tr>\n      <th>1</th>\n      <td> 4.9</td>\n      <td> 3.0</td>\n      <td> 1.4</td>\n      <td> 0.2</td>\n      <td> setosa</td>\n    </tr>\n    <tr>\n      <th>2</th>\n      <td> 4.7</td>\n      <td> 3.2</td>\n      <td> 1.3</td>\n      <td> 0.2</td>\n      <td> setosa</td>\n    </tr>\n    <tr>\n      <th>3</th>\n      <td> 4.6</td>\n      <td> 3.1</td>\n      <td> 1.5</td>\n      <td> 0.2</td>\n      <td> setosa</td>\n    </tr>\n    <tr>\n      <th>4</th>\n      <td> 5.0</td>\n      <td> 3.6</td>\n      <td> 1.4</td>\n      <td> 0.2</td>\n      <td> setosa</td>\n    </tr>\n  </tbody>\n</table>\n</div>",
       "metadata": {},
       "output_type": "pyout",
       "prompt_number": 3,
       "text": "   sepal length (cm)  sepal width (cm)  petal length (cm)  petal width (cm)  \\\n0                5.1               3.5                1.4               0.2   \n1                4.9               3.0                1.4               0.2   \n2                4.7               3.2                1.3               0.2   \n3                4.6               3.1                1.5               0.2   \n4                5.0               3.6                1.4               0.2   \n\n  species  \n0  setosa  \n1  setosa  \n2  setosa  \n3  setosa  \n4  setosa  "
      }
     ],
     "prompt_number": 3
    },
    {
     "cell_type": "code",
     "collapsed": false,
     "input": "k = Koala(data=df, target='species')",
     "language": "python",
     "metadata": {},
     "outputs": [],
     "prompt_number": 4
    },
    {
     "cell_type": "code",
     "collapsed": false,
     "input": "k.train(test_size=0.3)",
     "language": "python",
     "metadata": {},
     "outputs": [],
     "prompt_number": 5
    },
    {
     "cell_type": "code",
     "collapsed": false,
     "input": "random_rows = np.random.choice(df.index.values, 10)\nsampledf = df.ix[random_rows]",
     "language": "python",
     "metadata": {},
     "outputs": [],
     "prompt_number": 6
    },
    {
     "cell_type": "code",
     "collapsed": false,
     "input": "sample_data = sampledf.drop('species', axis=1).values",
     "language": "python",
     "metadata": {},
     "outputs": [],
     "prompt_number": 7
    },
    {
     "cell_type": "code",
     "collapsed": false,
     "input": "k.predict(sample_data)",
     "language": "python",
     "metadata": {},
     "outputs": [
      {
       "metadata": {},
       "output_type": "pyout",
       "prompt_number": 8,
       "text": "array(['virginica', 'setosa', 'versicolor', 'setosa', 'versicolor',\n       'virginica', 'virginica', 'virginica', 'versicolor', 'virginica'], dtype=object)"
      }
     ],
     "prompt_number": 8
    },
    {
     "cell_type": "code",
     "collapsed": false,
     "input": "sampledf['predictions'] = pd.DataFrame(data=k.predict(sample_data),index=sampledf.index)\nsampledf",
     "language": "python",
     "metadata": {},
     "outputs": [
      {
       "html": "<div style=\"max-height:1000px;max-width:1500px;overflow:auto;\">\n<table border=\"1\" class=\"dataframe\">\n  <thead>\n    <tr style=\"text-align: right;\">\n      <th></th>\n      <th>sepal length (cm)</th>\n      <th>sepal width (cm)</th>\n      <th>petal length (cm)</th>\n      <th>petal width (cm)</th>\n      <th>species</th>\n      <th>predictions</th>\n    </tr>\n  </thead>\n  <tbody>\n    <tr>\n      <th>113</th>\n      <td> 5.7</td>\n      <td> 2.5</td>\n      <td> 5.0</td>\n      <td> 2.0</td>\n      <td>  virginica</td>\n      <td>  virginica</td>\n    </tr>\n    <tr>\n      <th>36 </th>\n      <td> 5.5</td>\n      <td> 3.5</td>\n      <td> 1.3</td>\n      <td> 0.2</td>\n      <td>     setosa</td>\n      <td>     setosa</td>\n    </tr>\n    <tr>\n      <th>56 </th>\n      <td> 6.3</td>\n      <td> 3.3</td>\n      <td> 4.7</td>\n      <td> 1.6</td>\n      <td> versicolor</td>\n      <td> versicolor</td>\n    </tr>\n    <tr>\n      <th>32 </th>\n      <td> 5.2</td>\n      <td> 4.1</td>\n      <td> 1.5</td>\n      <td> 0.1</td>\n      <td>     setosa</td>\n      <td>     setosa</td>\n    </tr>\n    <tr>\n      <th>99 </th>\n      <td> 5.7</td>\n      <td> 2.8</td>\n      <td> 4.1</td>\n      <td> 1.3</td>\n      <td> versicolor</td>\n      <td> versicolor</td>\n    </tr>\n    <tr>\n      <th>116</th>\n      <td> 6.5</td>\n      <td> 3.0</td>\n      <td> 5.5</td>\n      <td> 1.8</td>\n      <td>  virginica</td>\n      <td>  virginica</td>\n    </tr>\n    <tr>\n      <th>129</th>\n      <td> 7.2</td>\n      <td> 3.0</td>\n      <td> 5.8</td>\n      <td> 1.6</td>\n      <td>  virginica</td>\n      <td>  virginica</td>\n    </tr>\n    <tr>\n      <th>135</th>\n      <td> 7.7</td>\n      <td> 3.0</td>\n      <td> 6.1</td>\n      <td> 2.3</td>\n      <td>  virginica</td>\n      <td>  virginica</td>\n    </tr>\n    <tr>\n      <th>70 </th>\n      <td> 5.9</td>\n      <td> 3.2</td>\n      <td> 4.8</td>\n      <td> 1.8</td>\n      <td> versicolor</td>\n      <td> versicolor</td>\n    </tr>\n    <tr>\n      <th>141</th>\n      <td> 6.9</td>\n      <td> 3.1</td>\n      <td> 5.1</td>\n      <td> 2.3</td>\n      <td>  virginica</td>\n      <td>  virginica</td>\n    </tr>\n  </tbody>\n</table>\n</div>",
       "metadata": {},
       "output_type": "pyout",
       "prompt_number": 9,
       "text": "     sepal length (cm)  sepal width (cm)  petal length (cm)  petal width (cm)  \\\n113                5.7               2.5                5.0               2.0   \n36                 5.5               3.5                1.3               0.2   \n56                 6.3               3.3                4.7               1.6   \n32                 5.2               4.1                1.5               0.1   \n99                 5.7               2.8                4.1               1.3   \n116                6.5               3.0                5.5               1.8   \n129                7.2               3.0                5.8               1.6   \n135                7.7               3.0                6.1               2.3   \n70                 5.9               3.2                4.8               1.8   \n141                6.9               3.1                5.1               2.3   \n\n        species predictions  \n113   virginica   virginica  \n36       setosa      setosa  \n56   versicolor  versicolor  \n32       setosa      setosa  \n99   versicolor  versicolor  \n116   virginica   virginica  \n129   virginica   virginica  \n135   virginica   virginica  \n70   versicolor  versicolor  \n141   virginica   virginica  "
      }
     ],
     "prompt_number": 9
    },
    {
     "cell_type": "code",
     "collapsed": false,
     "input": "k.f1_score()",
     "language": "python",
     "metadata": {},
     "outputs": [
      {
       "metadata": {},
       "output_type": "pyout",
       "prompt_number": 10,
       "text": "0.95563725490196072"
      }
     ],
     "prompt_number": 10
    },
    {
     "cell_type": "code",
     "collapsed": false,
     "input": "k.precision_score()",
     "language": "python",
     "metadata": {},
     "outputs": [
      {
       "metadata": {},
       "output_type": "pyout",
       "prompt_number": 11,
       "text": "0.96078431372549022"
      }
     ],
     "prompt_number": 11
    },
    {
     "cell_type": "code",
     "collapsed": false,
     "input": "k.confusion_matrix()",
     "language": "python",
     "metadata": {},
     "outputs": [
      {
       "html": "<div style=\"max-height:1000px;max-width:1500px;overflow:auto;\">\n<table border=\"1\" class=\"dataframe\">\n  <thead>\n    <tr style=\"text-align: right;\">\n      <th></th>\n      <th>setosa</th>\n      <th>versicolor</th>\n      <th>virginica</th>\n    </tr>\n  </thead>\n  <tbody>\n    <tr>\n      <th>setosa</th>\n      <td> 12</td>\n      <td>  0</td>\n      <td>  0</td>\n    </tr>\n    <tr>\n      <th>versicolor</th>\n      <td>  0</td>\n      <td> 15</td>\n      <td>  0</td>\n    </tr>\n    <tr>\n      <th>virginica</th>\n      <td>  0</td>\n      <td>  2</td>\n      <td> 16</td>\n    </tr>\n  </tbody>\n</table>\n</div>",
       "metadata": {},
       "output_type": "pyout",
       "prompt_number": 12,
       "text": "            setosa  versicolor  virginica\nsetosa          12           0          0\nversicolor       0          15          0\nvirginica        0           2         16"
      }
     ],
     "prompt_number": 12
    },
    {
     "cell_type": "code",
     "collapsed": false,
     "input": "k.feature_importance().plot(kind='barh')",
     "language": "python",
     "metadata": {},
     "outputs": [
      {
       "metadata": {},
       "output_type": "pyout",
       "prompt_number": 13,
       "text": "<matplotlib.axes.AxesSubplot at 0x7e587b8>"
      },
      {
       "metadata": {},
       "output_type": "display_data",
       "png": "[encoded data removed]",
       "text": "<matplotlib.figure.Figure at 0x7df3c18>"
      }
     ],
     "prompt_number": 13
    },
    {
     "cell_type": "code",
     "collapsed": false,
     "input": "k.feature_reduction_scores(test_size=0.9).plot()",
     "language": "python",
     "metadata": {},
     "outputs": [
      {
       "metadata": {},
       "output_type": "pyout",
       "prompt_number": 14,
       "text": "<matplotlib.axes.AxesSubplot at 0x7fb0f98>"
      },
      {
       "metadata": {},
       "output_type": "display_data",
       "png": "[encoded data removed]",
       "text": "<matplotlib.figure.Figure at 0x80aae48>"
      }
     ],
     "prompt_number": 14
    },
    {
     "cell_type": "raw",
     "metadata": {},
     "source": "Saving and loading:"
    },
    {
     "cell_type": "code",
     "collapsed": false,
     "input": "k.save('foo.dat')",
     "language": "python",
     "metadata": {},
     "outputs": [],
     "prompt_number": 15
    },
    {
     "cell_type": "code",
     "collapsed": false,
     "input": "d = Koala()",
     "language": "python",
     "metadata": {},
     "outputs": [],
     "prompt_number": 16
    },
    {
     "cell_type": "code",
     "collapsed": false,
     "input": "d.load('foo.dat')",
     "language": "python",
     "metadata": {},
     "outputs": [],
     "prompt_number": 17
    },
    {
     "cell_type": "code",
     "collapsed": false,
     "input": "d.confusion_matrix()",
     "language": "python",
     "metadata": {},
     "outputs": [
      {
       "html": "<div style=\"max-height:1000px;max-width:1500px;overflow:auto;\">\n<table border=\"1\" class=\"dataframe\">\n  <thead>\n    <tr style=\"text-align: right;\">\n      <th></th>\n      <th>setosa</th>\n      <th>versicolor</th>\n      <th>virginica</th>\n    </tr>\n  </thead>\n  <tbody>\n    <tr>\n      <th>setosa</th>\n      <td> 12</td>\n      <td>  0</td>\n      <td>  0</td>\n    </tr>\n    <tr>\n      <th>versicolor</th>\n      <td>  0</td>\n      <td> 15</td>\n      <td>  0</td>\n    </tr>\n    <tr>\n      <th>virginica</th>\n      <td>  0</td>\n      <td>  2</td>\n      <td> 16</td>\n    </tr>\n  </tbody>\n</table>\n</div>",
       "metadata": {},
       "output_type": "pyout",
       "prompt_number": 18,
       "text": "            setosa  versicolor  virginica\nsetosa          12           0          0\nversicolor       0          15          0\nvirginica        0           2         16"
      }
     ],
     "prompt_number": 18
    },
    {
     "cell_type": "code",
     "collapsed": false,
     "input": "",
     "language": "python",
     "metadata": {},
     "outputs": [],
     "prompt_number": 18
    }
   ],
   "metadata": {}
  }
 ]
}